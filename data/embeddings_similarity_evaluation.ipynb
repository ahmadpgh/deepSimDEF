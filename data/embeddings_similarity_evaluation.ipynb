{
 "cells": [
  {
   "cell_type": "markdown",
   "metadata": {},
   "source": [
    "## Embeddings Similarity Evaluation"
   ]
  },
  {
   "cell_type": "markdown",
   "metadata": {},
   "source": [
    "### imports"
   ]
  },
  {
   "cell_type": "code",
   "execution_count": null,
   "metadata": {},
   "outputs": [],
   "source": [
    "from __future__ import print_function\n",
    "\n",
    "import numpy as np\n",
    "import operator\n",
    "import easydict\n",
    "import linecache\n",
    "import ipywidgets as widgets\n",
    "import ipywidgets\n",
    "\n",
    "from  scipy.spatial.distance import cdist\n",
    "from ipywidgets import interact, fixed\n"
   ]
  },
  {
   "cell_type": "code",
   "execution_count": null,
   "metadata": {},
   "outputs": [],
   "source": [
    "embedding_type = \"definition\" # definition, graph, etc\n",
    "\n",
    "args = easydict.EasyDict({\n",
    "    \"embedding_base_dir\": f'gene_ontology/{embedding_type}_embedding',  # base directory to the Gene Ontology embeddings\n",
    "    \"go_subontology\": 'BP',     # GO (Gene Ontology) subontology (BP, CC, MF)\n",
    "    \"embedding_dim\": 100,       # embedding dimemnsion of interest\n",
    "    \"go_dir\": 'gene_ontology/raw/',     # directory to the Gene Ontology 'go.obo' file\n",
    "    \"download_gene_ontology\": False,    # download the latest version of gene ontology into the specified directory above\n",
    "})"
   ]
  },
  {
   "cell_type": "markdown",
   "metadata": {},
   "source": [
    "### Loading Gene Ontology<a id='3'></a>\n",
    "[back to top](#top)<br>"
   ]
  },
  {
   "cell_type": "code",
   "execution_count": null,
   "metadata": {},
   "outputs": [],
   "source": [
    "if args.download_gene_ontology:\n",
    "    os.makedirs(args.go_dir, exist_ok=True)  # create 'data_loc' folder (if it does not exist already)\n",
    "    print(\"Downloading the latest version of Gene Ontology into '{}'...\".format(args.go_dir))\n",
    "    url = 'http://current.geneontology.org/ontology/go.obo'\n",
    "    r = requests.get(url, allow_redirects=True)\n",
    "    open('{}/go.obo'.format(args.go_dir), 'wb').write(r.content)\n",
    "\n",
    "print(\"Gene Ontology {}\".format(linecache.getline('{}/go.obo'.format(args.go_dir), 2))) # Now: releases/2020-10-09"
   ]
  },
  {
   "cell_type": "code",
   "execution_count": null,
   "metadata": {},
   "outputs": [],
   "source": [
    "\"\"\"Reading Gene Ontology to extract Terms and their Descriptive Names\"\"\"\n",
    "with open(\"{}/go.obo\".format(args.go_dir)) as f:\n",
    "    content = f.readlines()\n",
    "content = \"\".join([x for x in content])\n",
    "content = content.split(\"[Typedef]\")[0].split(\"[Term]\")\n",
    "print(\"Information of the last GO term in the file:\\n~~~~~~~~~~~~~~~~~~~~~~~~~{}\".format(content[-1]))"
   ]
  },
  {
   "cell_type": "code",
   "execution_count": null,
   "metadata": {},
   "outputs": [],
   "source": [
    "go_term_dict = {}\n",
    "for c in content:\n",
    "    go_id = ''\n",
    "    for l in c.split(\"\\n\"):\n",
    "        # id\n",
    "        if \"id: GO:\" in l[0:len(\"id: GO:\")]:\n",
    "            go_id = l.split(\"id: \")[1]\n",
    "            go_term_dict[go_id] = {}\n",
    "        # alt_id\n",
    "        if \"alt_id:\" in l[0:len(\"alt_id\")+1]:\n",
    "            go_term_dict[go_id].setdefault(\"alt_id\", []).append(l.split(\"alt_id: \")[1])\n",
    "        # name\n",
    "        if \"name:\" in l[0:len(\"name\")+1]:\n",
    "            go_term_dict[go_id][\"name\"] = l.split(\"name: \")[1]\n",
    "        # namespace\n",
    "        if \"namespace:\" in l[0:len(\"namespace\")+1]:\n",
    "            go_term_dict[go_id][\"namespace\"] = l.split(\"namespace: \")[1]\n",
    "            \n",
    "go_term_dict"
   ]
  },
  {
   "cell_type": "code",
   "execution_count": null,
   "metadata": {},
   "outputs": [],
   "source": [
    "name_space_map = {'molecular_function': \"MF\", \"biological_process\": \"BP\", \"cellular_component\": \"CC\"}\n",
    "go_to_name = {\"MF\":{}, \"BP\":{}, \"CC\":{}}\n",
    "for go in go_term_dict:\n",
    "    go_to_name[name_space_map[go_term_dict[go]['namespace']]][go] = go_term_dict[go]['name']"
   ]
  },
  {
   "cell_type": "code",
   "execution_count": null,
   "metadata": {},
   "outputs": [],
   "source": [
    "go_to_name[\"MF\"]"
   ]
  },
  {
   "cell_type": "markdown",
   "metadata": {},
   "source": [
    "### Reading GO-term Embedding Vectors"
   ]
  },
  {
   "cell_type": "code",
   "execution_count": null,
   "metadata": {},
   "outputs": [],
   "source": [
    "file_reader = open(f\"{args.embedding_base_dir}/{args.embedding_dim}_dimensional/GO_{args.go_subontology}_Embeddings_{args.embedding_dim}D.emb\", \"r\")\n",
    "go_term_embeddings = {}\n",
    "for line in file_reader:\n",
    "    values = line.split()\n",
    "    go_term = values[0]\n",
    "    go_term_embeddings[go_term] = np.asarray(values[1:], dtype='float32')\n",
    "file_reader.close()\n",
    "print(f'Loaded {len(go_term_embeddings)} GO-term embedding vectors.')"
   ]
  },
  {
   "cell_type": "markdown",
   "metadata": {},
   "source": [
    "### Computing GO-term Similarity (cosine)"
   ]
  },
  {
   "cell_type": "code",
   "execution_count": null,
   "metadata": {},
   "outputs": [],
   "source": [
    "default = {\"BP\": \"GO:0045210\", \"CC\": \"GO:0000127\", \"MF\":\"GO:0001883\"}\n",
    "\n",
    "@interact(GO_term = widgets.Combobox(options=list(go_to_name[args.go_subontology]), value=default[args.go_subontology], description='GO term:'), \n",
    "          metric = ipywidgets.fixed(\"cosine\"),\n",
    "          embedding_matrix = ipywidgets.fixed(go_term_embeddings),\n",
    "          n_top = widgets.IntSlider(20, min=5, max=50, description=\"N top terms:\"))\n",
    "def most_similar_concepts(GO_term, metric, embedding_matrix, n_top):\n",
    "    if GO_term not in embedding_matrix:\n",
    "        print(\"Error: The specified input GO term does not exists in the embedding version of GO.\")\n",
    "        return\n",
    "    XA = embedding_matrix[GO_term]\n",
    "    Cosine_dic = {}\n",
    "    for concept, XB in embedding_matrix.items():\n",
    "        Y = cdist([XA], [XB], \"cosine\")\n",
    "        Cosine_dic[concept] = Y[0][0]\n",
    "    i = 0\n",
    "    print(f\"\\nThe top {n_top} most similar {args.go_subontology} terms to the query term '{GO_term}' are (used {metric} metric):\")\n",
    "    print(\"~\"*90)\n",
    "    print(\" #      GO term      Score    Label\")\n",
    "    print(\"-\"*90)\n",
    "    for i, (concept, cosine) in enumerate(sorted(Cosine_dic.items(), key=operator.itemgetter(1))[:n_top+1]): # +1 to consider the term itself\n",
    "        if i==0: print(f' Q  >>  {concept}   {np.abs(cosine):.04f}   {go_to_name[args.go_subontology][concept]}')\n",
    "        else: print(f'{i:2.0f}  >>  {concept}   {np.abs(cosine):.04f}   {go_to_name[args.go_subontology][concept]}')\n"
   ]
  },
  {
   "cell_type": "markdown",
   "metadata": {},
   "source": [
    "-----"
   ]
  }
 ],
 "metadata": {
  "kernelspec": {
   "display_name": "Python [conda env:deepSimDEF_last]",
   "language": "python",
   "name": "conda-env-deepSimDEF_last-py"
  },
  "language_info": {
   "codemirror_mode": {
    "name": "ipython",
    "version": 3
   },
   "file_extension": ".py",
   "mimetype": "text/x-python",
   "name": "python",
   "nbconvert_exporter": "python",
   "pygments_lexer": "ipython3",
   "version": "3.8.10"
  }
 },
 "nbformat": 4,
 "nbformat_minor": 2
}
