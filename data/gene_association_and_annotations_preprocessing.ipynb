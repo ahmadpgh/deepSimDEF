{
 "cells": [
  {
   "cell_type": "markdown",
   "metadata": {},
   "source": [
    "# Gene Association and Annotations Preprocessing<a id='top'></a>\n",
    "**Sections:**<br>\n",
    "[0) Description](#0)<br>\n",
    "[1) Importing Modules and Packages](#1)<br>\n",
    "[2) Configuration](#2)<br>\n",
    "[3) Loading Gene Ontology](#3)<br>\n",
    "[4) Genes and Annotations (without 'ND' and 'IEA' annotations)](#4)<br>\n",
    "[5) Genes and Annotations (without 'ND' and with 'IEA' annotations)](#5)<br>"
   ]
  },
  {
   "cell_type": "markdown",
   "metadata": {},
   "source": [
    "## Description<a id='0'></a>\n",
    "**Aim:** This Jupyter Notebook is designed to preprocess the gene association file of the species of interest (e.g., _human_ or *yeast*). This preprocessing results in 6 files, 3 of them for $-$IEA and the rest for $+$IEA; each of those 3 files is associated with one sub-ontology in Gene Ontology (namely, BP for *biological process*, CC for *cellular component*, and MF for *molecular function*, defined as the extension of the files).<br>\n",
    "\n",
    "---\n",
    "**Output file format:** (space separated)<br>\n",
    "_accession_id gene_id go_annotation_1 go_annotation_2 ... go_annotation_n_ <br>\n",
    "A0A1B0GTQ1 CYP2D7 GO:0006082 GO:0006805 GO:0019369 GO:0042738 GO:0055114<br>\n",
    "E7EML9 PRSS44 GO:0006508 GO:0007281 GO:0007283<br>\n",
    "... <br>\n",
    "\n",
    "For more information regarding GO evidence codes such as *No biological Data available (ND)* and *Inferred from Electronic Annotation (IEA)* refer to:<br>[Guide to GO evidence codes](http://geneontology.org/docs/guide-go-evidence-codes/)<br>\n",
    "\n",
    "---\n",
    "Files needed for this preprocessing are:\n",
    " * **Gene ontology:** ['go.obo' file](http://current.geneontology.org/ontology/go.obo)<br><br>\n",
    " \n",
    " * **Association files:** [gene association files ingested from GO Consortium members](http://current.geneontology.org/products/pages/downloads.html)\n",
    "  * **Human** - [Gene Association file (Homo sapiens)](http://geneontology.org/gene-associations/goa_human.gaf.gz)\n",
    "  * **Yeast** - [Gene Association file (Saccharomyces cerevisiae)](http://current.geneontology.org/annotations/sgd.gaf.gz)<br>\n",
    "\n",
    "---\n",
    "[back to top](#top)<br>\n"
   ]
  },
  {
   "cell_type": "markdown",
   "metadata": {},
   "source": [
    "## Import<a id='1'></a>\n",
    "[back to top](#top)<br>"
   ]
  },
  {
   "cell_type": "code",
   "execution_count": null,
   "metadata": {},
   "outputs": [],
   "source": [
    "import pandas as pd\n",
    "import numpy as np\n",
    "import os\n",
    "import requests\n",
    "import easydict\n",
    "import linecache\n",
    "import pprint\n",
    "\n",
    "pp = pprint.PrettyPrinter(indent=4)"
   ]
  },
  {
   "cell_type": "markdown",
   "metadata": {},
   "source": [
    "## Configuration<a id='2'></a>\n",
    "[back to top](#top)<br>"
   ]
  },
  {
   "cell_type": "code",
   "execution_count": null,
   "metadata": {},
   "outputs": [],
   "source": [
    "species = 'human' # species of interest to load of and save the result for\n",
    "\n",
    "if species=='human':\n",
    "    association_file_name = 'goa_human.gaf.gz' # human\n",
    "    association_file_url = 'http://geneontology.org/gene-associations/goa_human.gaf.gz'\n",
    "elif species=='yeast':\n",
    "    association_file_name = 'sgd.gaf.gz' # yeast\n",
    "    association_file_url = 'http://current.geneontology.org/annotations/sgd.gaf.gz'\n",
    "    \n",
    "go_file = 'go.obo' # Gene Ontology file\n",
    "go_url = 'http://current.geneontology.org/ontology/go.obo'\n",
    "    \n",
    "args = easydict.EasyDict({\n",
    "    \"go_dir\": 'gene_ontology/raw/',    # directory to the Gene Ontology 'go.obo' file\n",
    "    \"association_file_dir\": 'species/{}/association_file/raw'.format(species), # directory to the human association file\n",
    "    \"result_dir\": 'species/{}/association_file/processed'.format(species),     # directory in which the results would be saved\n",
    "    \"fully_annotated\": True,           # gene strictly should be annotated by all three subontologies while all annotations (in -IEA setting), or at least one annotation are/is experimentally supported (in +IEA setting)\n",
    "    \"download_gene_ontology\": True,    # download the latest version of gene ontology into the specified directory above\n",
    "    \"download_association_file\": True  # download association file of the specieis of interest into the specified directory above\n",
    "})\n",
    "\n",
    "os.makedirs(args.result_dir, exist_ok=True)  # create 'result_dir' folder (if it does not exist already)\n",
    "\n",
    "subontology_map = {\"C\":\"CC\", \"P\":\"BP\", \"F\":\"MF\"}"
   ]
  },
  {
   "cell_type": "markdown",
   "metadata": {},
   "source": [
    "## Loading Gene Ontology<a id='3'></a>\n",
    "[back to top](#top)<br>"
   ]
  },
  {
   "cell_type": "code",
   "execution_count": null,
   "metadata": {},
   "outputs": [],
   "source": [
    "if args.download_gene_ontology:\n",
    "    os.makedirs(args.go_dir, exist_ok=True)  # create 'data_loc' folder (if it does not exist already)\n",
    "    print(\"Downloading the latest version of Gene Ontology into '{}'...\".format(args.go_dir))\n",
    "    r = requests.get(go_url, allow_redirects=True)\n",
    "    open('{}/{}'.format(args.go_dir, go_file), 'wb').write(r.content)\n",
    "\n",
    "print(\"Gene Ontology {}\".format(linecache.getline('{}/{}'.format(args.go_dir, go_file), 2))) # Now: releases/2021-05-01"
   ]
  },
  {
   "cell_type": "code",
   "execution_count": null,
   "metadata": {},
   "outputs": [],
   "source": [
    "\"\"\"Reading Gene Ontology to extract Terms and their Descriptive Names\"\"\"\n",
    "with open(\"{}/go.obo\".format(args.go_dir)) as f:\n",
    "    content = f.readlines()\n",
    "content = \"\".join([x for x in content])\n",
    "content = content.split(\"[Typedef]\")[0].split(\"[Term]\")\n",
    "print(\"Information of the last GO term in the file:\\n~~~~~~~~~~~~~~~~~~~~~~~~~{}\".format(content[-1]))"
   ]
  },
  {
   "cell_type": "code",
   "execution_count": null,
   "metadata": {},
   "outputs": [],
   "source": [
    "\"\"\"Going through every GO term and extract information needed ('id', 'alt_id', 'namespace', and 'is_obsolete')\"\"\"\n",
    "go_term_dict = {}\n",
    "alt_id_dict = {}\n",
    "for c in content:\n",
    "    go_id = ''\n",
    "    for l in c.split(\"\\n\"):\n",
    "        # id\n",
    "        if \"id: GO:\" in l[0:len(\"id: GO:\")]:\n",
    "            go_id = l.split(\"id: \")[1]\n",
    "            go_term_dict[go_id] = {}\n",
    "        # alt_id\n",
    "        if \"alt_id:\" in l[0:len(\"alt_id\")+1]:\n",
    "            alt_id = l.split(\"alt_id: \")[1]\n",
    "            go_term_dict[go_id].setdefault(\"alt_id\", []).append(alt_id)\n",
    "            alt_id_dict[alt_id] = go_id\n",
    "        # namespace\n",
    "        if \"namespace:\" in l[0:len(\"namespace\")+1]:\n",
    "            go_term_dict[go_id][\"namespace\"] = l.split(\"namespace: \")[1]\n",
    "        # is_obsolete\n",
    "        if \"is_obsolete:\" in l[0:len(\"is_obsolete\")+1]:\n",
    "            go_term_dict[go_id][\"is_obsolete\"] = l.split(\"is_obsolete: \")[1]"
   ]
  },
  {
   "cell_type": "code",
   "execution_count": null,
   "metadata": {},
   "outputs": [],
   "source": [
    "\"\"\"printing how the key:values are organized for every GO term\"\"\"\n",
    "for i in range(15):\n",
    "    print(list(go_term_dict)[i], end=\": \")\n",
    "    pp.pprint(go_term_dict[list(go_term_dict)[i]])"
   ]
  },
  {
   "cell_type": "code",
   "execution_count": null,
   "metadata": {},
   "outputs": [],
   "source": [
    "\"\"\"grouping GO terms based on the sub-ontologies they belong to\"\"\"\n",
    "subontology_go_term_dict = {}\n",
    "for go_id in go_term_dict:\n",
    "    if not go_term_dict[go_id].get('is_obsolete', False): # or => if 'is_obsolete' not in go_term_dict[go_id]:\n",
    "        subontology_go_term_dict.setdefault(go_term_dict[go_id]['namespace'].split('_')[1][0].upper(), []).append(go_id)"
   ]
  },
  {
   "cell_type": "code",
   "execution_count": null,
   "metadata": {},
   "outputs": [],
   "source": [
    "\"\"\"printing how the key:values are organized for different sub-ontologies\"\"\"\n",
    "for subontology in subontology_go_term_dict:\n",
    "    print(\"{} ({}):: {} <= {} GO term => {}\".format(\n",
    "        subontology, \n",
    "        subontology_map[subontology], \n",
    "        \" \".join(subontology_go_term_dict[subontology][:3]), \n",
    "        len(subontology_go_term_dict[subontology]), \n",
    "        \" \".join(subontology_go_term_dict[subontology][-3:])))"
   ]
  },
  {
   "cell_type": "markdown",
   "metadata": {},
   "source": [
    "## Genes and Annotations (without 'ND' and 'IEA' annotations)<a id='4'></a>\n",
    "[back to top](#top)<br>"
   ]
  },
  {
   "cell_type": "code",
   "execution_count": null,
   "metadata": {},
   "outputs": [],
   "source": [
    "if args.download_association_file:\n",
    "    os.makedirs(args.association_file_dir, exist_ok=True)  # create 'data_loc' folder (if it does not exist already)\n",
    "    print(\"Downloading the latest version of association file into '{}'...\".format(args.association_file_dir))\n",
    "    r = requests.get(association_file_url, allow_redirects=True)\n",
    "    open('{}/{}'.format(args.association_file_dir, association_file_name), 'wb').write(r.content)\n",
    "print(\"Done!\")"
   ]
  },
  {
   "cell_type": "code",
   "execution_count": null,
   "metadata": {
    "scrolled": false
   },
   "outputs": [],
   "source": [
    "df = pd.read_csv(\"{}/{}\".format(args.association_file_dir, association_file_name), sep='\\t', comment=\"!\", skip_blank_lines=True, header=None, dtype=str)\n",
    "df = df.iloc[:,[1, 2, 3, 4, 6, 8]]\n",
    "if len(df[df[3].isnull()])==0:\n",
    "    df = df[~df[3].str.contains(\"NOT\")]\n",
    "    df = df.dropna().reset_index(drop=True)\n",
    "else:\n",
    "    df = df[df[3].isnull()]\n",
    "    df = df.dropna().reset_index(drop=True)\n",
    "df = df.drop(df.columns[2], axis=1)\n",
    "df"
   ]
  },
  {
   "cell_type": "code",
   "execution_count": null,
   "metadata": {},
   "outputs": [],
   "source": [
    "\"\"\"keeping track of the gene ids and their mappings\"\"\"\n",
    "protein_gene_id_map = {}\n",
    "for gene_id, protein_id in zip(df[1], df[2]):\n",
    "    protein_gene_id_map[protein_id] = gene_id"
   ]
  },
  {
   "cell_type": "markdown",
   "metadata": {},
   "source": [
    "##### removing 'ND' and 'IEA' annotations"
   ]
  },
  {
   "cell_type": "code",
   "execution_count": null,
   "metadata": {},
   "outputs": [],
   "source": [
    "df = df[(df[6]!='ND') & (df[6]!='IEA')]\n",
    "df"
   ]
  },
  {
   "cell_type": "code",
   "execution_count": null,
   "metadata": {},
   "outputs": [],
   "source": [
    "\"\"\"protein dictionary to keep track of annotations for proteins (from each sub-ontology)\"\"\"\n",
    "proteins_dict = {}\n",
    "for index, row in df.iterrows():\n",
    "    gene_id = row[2]\n",
    "    go_term_id = row[4]\n",
    "    subontology = row[8]\n",
    "    if go_term_id in subontology_go_term_dict[subontology]:\n",
    "        proteins_dict.setdefault(gene_id, dict()).setdefault(subontology, set()).add(go_term_id)\n",
    "    elif go_term_id in alt_id_dict: # some gene are annotated by previous GO term ids, needs to be taken care of\n",
    "        proteins_dict.setdefault(gene_id, dict()).setdefault(subontology, set()).add(alt_id_dict[go_term_id])\n",
    "        \n",
    "\"\"\"printing how the key:values are organized for every gene/protein\"\"\"\n",
    "for i in range(5):\n",
    "    print(list(proteins_dict)[i], end=\": \")\n",
    "    pp.pprint(proteins_dict[list(proteins_dict)[i]])\n",
    "print(\"\\nTotal number of genes/proteins annotated:\", len(proteins_dict))"
   ]
  },
  {
   "cell_type": "code",
   "execution_count": null,
   "metadata": {},
   "outputs": [],
   "source": [
    "\"\"\"keeping track of fully annotated genes/proteins\"\"\"\n",
    "fully_annotated_proteins_wo_iea = []\n",
    "for protein in proteins_dict:\n",
    "    if len(proteins_dict[protein]) == 3:\n",
    "        fully_annotated_proteins_wo_iea.append(protein)\n",
    "print(\"Out of {} proteins {} are (experimentally or manually) annotated by all three sub-ontologies.\".format(len(proteins_dict), len(fully_annotated_proteins_wo_iea)))"
   ]
  },
  {
   "cell_type": "code",
   "execution_count": null,
   "metadata": {},
   "outputs": [],
   "source": [
    "\"\"\"re-organization of proteins annotations based on sub-ontologies\"\"\"\n",
    "subontologies_proteins = {}\n",
    "for protein in proteins_dict:\n",
    "    if args.fully_annotated and protein in fully_annotated_proteins_wo_iea:\n",
    "        for subontology in proteins_dict[protein]:\n",
    "            subontologies_proteins.setdefault(subontology, dict())[protein] = proteins_dict[protein][subontology]\n",
    "    elif not args.fully_annotated:\n",
    "        for subontology in proteins_dict[protein]:\n",
    "            subontologies_proteins.setdefault(subontology, dict())[protein] = proteins_dict[protein][subontology]\n",
    "            \n",
    "\"\"\"printing how the key:values are organized for different sub-ontologies\"\"\"\n",
    "for subontology in subontologies_proteins:\n",
    "    print(\"{} ({}): {} (length: {})\".format(subontology, subontology_map[subontology], \n",
    "                                            sorted(list(subontologies_proteins[subontology]))[:5],\n",
    "                                            len(list(subontologies_proteins[subontology]))))"
   ]
  },
  {
   "cell_type": "code",
   "execution_count": null,
   "metadata": {},
   "outputs": [],
   "source": [
    "\"\"\"saving the result for no ND and -IEA\"\"\"\n",
    "for subontology in sorted(list(subontologies_proteins)):\n",
    "    max_length = 0\n",
    "    with open(\"{}/gene_protein_GO_terms_without_IEA.{}\".format(args.result_dir, subontology_map[subontology]), \"w\") as fw:\n",
    "        for protein in subontologies_proteins[subontology]:\n",
    "            fw.write(\"{} {} {}\\n\".format(protein_gene_id_map[protein], protein, \" \".join(sorted(subontologies_proteins[subontology][protein]))))\n",
    "            if max_length < len(subontologies_proteins[subontology][protein]):\n",
    "                max_length = len(subontologies_proteins[subontology][protein])\n",
    "        print(\"{} ({}): {} genes (maximum annotation length: {})\".format(subontology, \n",
    "                        subontology_map[subontology], \n",
    "                        len(subontologies_proteins[subontology]), \n",
    "                        max_length))"
   ]
  },
  {
   "cell_type": "markdown",
   "metadata": {},
   "source": [
    "## Genes and Annotations (without 'ND' and with 'IEA' annotations)<a id='5'></a>\n",
    "[back to top](#top)<br>"
   ]
  },
  {
   "cell_type": "code",
   "execution_count": null,
   "metadata": {},
   "outputs": [],
   "source": [
    "df = pd.read_csv(\"{}/{}\".format(args.association_file_dir, association_file_name), sep='\\t', comment=\"!\", skip_blank_lines=True, header=None, dtype=str)\n",
    "df = df.iloc[:,[1, 2, 3, 4, 6, 8]]\n",
    "if len(df[df[3].isnull()])==0:\n",
    "    df = df[~df[3].str.contains(\"NOT\")]\n",
    "    df = df.dropna().reset_index(drop=True)\n",
    "else:\n",
    "    df = df[df[3].isnull()]\n",
    "    df = df.dropna().reset_index(drop=True)\n",
    "df = df.drop(df.columns[2], axis=1)\n",
    "df"
   ]
  },
  {
   "cell_type": "markdown",
   "metadata": {},
   "source": [
    "##### removing just 'ND' and not 'IEA' annotations"
   ]
  },
  {
   "cell_type": "code",
   "execution_count": null,
   "metadata": {},
   "outputs": [],
   "source": [
    "df = df[(df[6]!='ND')]\n",
    "df"
   ]
  },
  {
   "cell_type": "code",
   "execution_count": null,
   "metadata": {},
   "outputs": [],
   "source": [
    "\"\"\"protein dictionary to keep track of annotations for proteins (from each sub-ontology)\"\"\"\n",
    "proteins_dict = {}\n",
    "for index, row in df.iterrows():\n",
    "    gene = row[2]\n",
    "    go_term_id = row[4]\n",
    "    subontology = row[8]\n",
    "    if go_term_id in subontology_go_term_dict[subontology]:\n",
    "        proteins_dict.setdefault(gene, dict()).setdefault(subontology, set()).add(go_term_id)\n",
    "    elif go_term_id in alt_id_dict: # some gene are annotated by previous GO term ids, needs to be taken care of\n",
    "        proteins_dict.setdefault(gene, dict()).setdefault(subontology, set()).add(alt_id_dict[go_term_id])\n",
    "        \n",
    "\"\"\"printing how the key:values are organized for every gene/protein\"\"\"\n",
    "for i in range(10):\n",
    "    print(list(proteins_dict)[i], end=\": \")\n",
    "    pp.pprint(proteins_dict[list(proteins_dict)[i]])\n",
    "print(\"\\nTotal number of genes/proteins annotated:\", len(proteins_dict))"
   ]
  },
  {
   "cell_type": "code",
   "execution_count": null,
   "metadata": {},
   "outputs": [],
   "source": [
    "\"\"\"re-organization of proteins annotations based on sub-ontologies\"\"\"\n",
    "subontologies_proteins = {}\n",
    "for protein in proteins_dict:\n",
    "    if  args.fully_annotated and (protein in fully_annotated_proteins_wo_iea):\n",
    "        for subontology in proteins_dict[protein]:\n",
    "            subontologies_proteins.setdefault(subontology, dict())[protein] = proteins_dict[protein][subontology]\n",
    "    elif not args.fully_annotated:\n",
    "        for subontology in proteins_dict[protein]:\n",
    "            subontologies_proteins.setdefault(subontology, dict())[protein] = proteins_dict[protein][subontology]\n",
    "            \n",
    "\"\"\"printing how the key:values are organized for different sub-ontologies\"\"\"\n",
    "for subontology in subontologies_proteins:\n",
    "    print(\"{} ({}): {} (length: {})\".format(subontology, subontology_map[subontology], \n",
    "                                            sorted(list(subontologies_proteins[subontology]))[:5],\n",
    "                                            len(list(subontologies_proteins[subontology]))))"
   ]
  },
  {
   "cell_type": "code",
   "execution_count": null,
   "metadata": {},
   "outputs": [],
   "source": [
    "\"\"\"saving the result for no ND and +IEA\"\"\"\n",
    "for subontology in sorted(list(subontologies_proteins)):\n",
    "    max_length = 0\n",
    "    with open(\"{}/gene_protein_GO_terms_with_IEA.{}\".format(args.result_dir, subontology_map[subontology]), \"w\") as fw:\n",
    "        for protein in subontologies_proteins[subontology]:\n",
    "            fw.write(\"{} {} {}\\n\".format(protein_gene_id_map[protein], protein, \" \".join(sorted(subontologies_proteins[subontology][protein]))))\n",
    "            if max_length < len(subontologies_proteins[subontology][protein]):\n",
    "                max_length = len(subontologies_proteins[subontology][protein])\n",
    "        print(\"{} ({}): {} genes (maximum annotation length: {})\".format(subontology, \n",
    "                        subontology_map[subontology], \n",
    "                        len(subontologies_proteins[subontology]), \n",
    "                        max_length))"
   ]
  },
  {
   "cell_type": "markdown",
   "metadata": {},
   "source": [
    "[back to top](#top)<br>"
   ]
  },
  {
   "cell_type": "markdown",
   "metadata": {},
   "source": [
    "---"
   ]
  }
 ],
 "metadata": {
  "kernelspec": {
   "display_name": "Python [conda env:deepSimDEF_env]",
   "language": "python",
   "name": "conda-env-deepSimDEF_env-py"
  },
  "language_info": {
   "codemirror_mode": {
    "name": "ipython",
    "version": 3
   },
   "file_extension": ".py",
   "mimetype": "text/x-python",
   "name": "python",
   "nbconvert_exporter": "python",
   "pygments_lexer": "ipython3",
   "version": "3.8.10"
  }
 },
 "nbformat": 4,
 "nbformat_minor": 2
}
